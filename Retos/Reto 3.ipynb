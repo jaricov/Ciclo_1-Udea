{
 "cells": [
  {
   "cell_type": "code",
   "execution_count": 74,
   "metadata": {},
   "outputs": [],
   "source": [
    "import numpy as np\n",
    "import random\n",
    "\n",
    "texto = 'Today is Caturday!'\n",
    "\n",
    "def encriptado(texto):\n",
    "    import random\n",
    "    texto = list(texto.strip())\n",
    "    lenght = len(texto)\n",
    "    order = (int(np.sqrt(lenght))+1)\n",
    "    for i in range(order**2-lenght):\n",
    "        texto.append('_')\n",
    "    clave = random.sample(range(order**2),k=order**2)\n",
    "    new_text = [ord(texto[clave[i]]) for i in range(len(clave))]\n",
    "    array_final = [new_text[i:i + order] for i in range(0, len(new_text), order)]\n",
    "    return array_final, clave\n",
    "\n",
    "array_final, clave = encriptado(texto)\n",
    "array_encriptado=array_final"
   ]
  },
  {
   "cell_type": "code",
   "execution_count": 91,
   "metadata": {},
   "outputs": [
    {
     "data": {
      "text/plain": [
       "'Today is Caturday!'"
      ]
     },
     "execution_count": 91,
     "metadata": {},
     "output_type": "execute_result"
    }
   ],
   "source": [
    "def desencriptado(array_encriptado, clave):\n",
    "    text = []\n",
    "    for i in range(len(array_encriptado)):\n",
    "        line = array_encriptado[i]\n",
    "        for j in range(len(line)):\n",
    "            text.append(chr(line[j]))\n",
    "    texto_desord = {}\n",
    "    for i in range(len(clave)):\n",
    "        texto_desord[clave[i]] = text[i]\n",
    "    texto1 = [texto_desord[j] for j in range(len(clave))]\n",
    "    texto2 = []\n",
    "    for i in range(len(texto1)):\n",
    "        if texto1[i] == '_':\n",
    "            continue\n",
    "        else:\n",
    "            texto2.append(texto1[i])\n",
    "    texto = \"\".join(texto2)\n",
    "    return texto\n",
    "\n",
    "desencriptado(array_encriptado, clave)"
   ]
  },
  {
   "cell_type": "code",
   "execution_count": null,
   "metadata": {},
   "outputs": [],
   "source": []
  }
 ],
 "metadata": {
  "kernelspec": {
   "display_name": "Python 3",
   "language": "python",
   "name": "python3"
  },
  "language_info": {
   "codemirror_mode": {
    "name": "ipython",
    "version": 3
   },
   "file_extension": ".py",
   "mimetype": "text/x-python",
   "name": "python",
   "nbconvert_exporter": "python",
   "pygments_lexer": "ipython3",
   "version": "3.8.5"
  }
 },
 "nbformat": 4,
 "nbformat_minor": 4
}
