{
 "cells": [
  {
   "cell_type": "code",
   "execution_count": 33,
   "metadata": {},
   "outputs": [],
   "source": [
    "import csv, json\n",
    "\n",
    "def comportamiento(x):\n",
    "    if x > 0:\n",
    "        return 'SUBE'\n",
    "    if x < 0: \n",
    "        return 'BAJA'\n",
    "    else:\n",
    "        return 'ESTABLE'\n",
    "\n",
    "def solucion():\n",
    "    import pandas as pd\n",
    "    import numpy as np\n",
    "    document = pd.read_csv('AMAZON.csv')\n",
    "    document['Diferencia'] = document['Close']-document['Open']\n",
    "    document['Comportamiento_de_la_accion'] = document.Diferencia.apply(comportamiento)\n",
    "    document['Diferencia_absoluta_open-high'] = np.sqrt((document.Close-document.High)**2)\n",
    "    archivo = document.rename(columns={'Date':'Fecha'})\n",
    "    archivo = archivo.drop(['Open','High','Low','Close','Adj Close','Volume','Diferencia'],axis=1)\n",
    "    archivo.to_csv('analisis_archivo.csv',index=False,sep=' ')\n",
    "    \n",
    "    ### Json###\n",
    "    \n",
    "    detalles = {}\n",
    "    detalles['date_lowest_volume'] = document.Date[document.Volume.idxmin()]\n",
    "    detalles['lowest_volume'] = float(document.Volume.min())\n",
    "    detalles['mean_volume'] = float(document.Volume.mean())\n",
    "    detalles['date_greatest_difference'] = document.Date[document['Diferencia_absoluta_open-high'].idxmax()]\n",
    "    detalles['greatest_difference'] = float(document['Diferencia_absoluta_open-high'].max())\n",
    "    detalles['date_smallest_difference'] = document.Date[document['Diferencia_absoluta_open-high'].idxmin()]\n",
    "    detalles['smallest_difference'] = float(document['Diferencia_absoluta_open-high'].min())\n",
    "    \n",
    "    with open('detalles.json', 'w') as file:\n",
    "        json.dump(detalles,file,indent=1)\n",
    "\n",
    "solucion()"
   ]
  },
  {
   "cell_type": "code",
   "execution_count": null,
   "metadata": {},
   "outputs": [],
   "source": []
  }
 ],
 "metadata": {
  "kernelspec": {
   "display_name": "Python 3",
   "language": "python",
   "name": "python3"
  },
  "language_info": {
   "codemirror_mode": {
    "name": "ipython",
    "version": 3
   },
   "file_extension": ".py",
   "mimetype": "text/x-python",
   "name": "python",
   "nbconvert_exporter": "python",
   "pygments_lexer": "ipython3",
   "version": "3.8.5"
  }
 },
 "nbformat": 4,
 "nbformat_minor": 4
}
