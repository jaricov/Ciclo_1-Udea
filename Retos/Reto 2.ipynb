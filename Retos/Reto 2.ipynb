{
 "cells": [
  {
   "cell_type": "code",
   "execution_count": 14,
   "metadata": {},
   "outputs": [
    {
     "data": {
      "text/plain": [
       "('ABCDEFGHCIDJKDLFGMBNODPCNQRBMS',\n",
       " {'T': 'A',\n",
       "  'h': 'B',\n",
       "  'e': 'C',\n",
       "  ' ': 'D',\n",
       "  'G': 'E',\n",
       "  'a': 'F',\n",
       "  'r': 'G',\n",
       "  'd': 'H',\n",
       "  'n': 'I',\n",
       "  'o': 'J',\n",
       "  'f': 'K',\n",
       "  'E': 'L',\n",
       "  't': 'M',\n",
       "  'l': 'N',\n",
       "  'y': 'O',\n",
       "  'D': 'P',\n",
       "  'i': 'Q',\n",
       "  'g': 'R',\n",
       "  's': 'S'})"
      ]
     },
     "execution_count": 14,
     "metadata": {},
     "output_type": "execute_result"
    }
   ],
   "source": [
    "##### Reto 2A - parte 1 ##### Seguridad nacional\n",
    "mensaje = 'The Garden of Earthly Delights'\n",
    "def encriptador(mensaje):\n",
    "    import string\n",
    "    ABC = string.ascii_uppercase\n",
    "    clave = {}\n",
    "    encriptado = []\n",
    "    existente = []\n",
    "    for i in range(len(mensaje)):\n",
    "        if mensaje[i] not in existente:\n",
    "            existente.append(mensaje[i])\n",
    "            clave[mensaje[i]] = ABC[int(len(existente))-1]\n",
    "    for j in range(len(mensaje)):\n",
    "        encriptado.append(clave[mensaje[j]])\n",
    "    encriptado = \"\".join(encriptado)\n",
    "    return encriptado, clave\n",
    "\n",
    "encriptador(mensaje)"
   ]
  },
  {
   "cell_type": "code",
   "execution_count": 27,
   "metadata": {},
   "outputs": [
    {
     "data": {
      "text/plain": [
       "'The Garden of Earthly Delights'"
      ]
     },
     "execution_count": 27,
     "metadata": {},
     "output_type": "execute_result"
    }
   ],
   "source": [
    "encriptado = 'ABCDEFGHCIDJKDLFGMBNODPCNQRBMS'\n",
    "clave = {'T': 'A',\n",
    "  'h': 'B',\n",
    "  'e': 'C',\n",
    "  ' ': 'D',\n",
    "  'G': 'E',\n",
    "  'a': 'F',\n",
    "  'r': 'G',\n",
    "  'd': 'H',\n",
    "  'n': 'I',\n",
    "  'o': 'J',\n",
    "  'f': 'K',\n",
    "  'E': 'L',\n",
    "  't': 'M',\n",
    "  'l': 'N',\n",
    "  'y': 'O',\n",
    "  'D': 'P',\n",
    "  'i': 'Q',\n",
    "  'g': 'R',\n",
    "  's': 'S'}\n",
    "def desencriptador(encriptado, clave):\n",
    "    nueva_clave = dict((v,k) for k,v in clave.items())\n",
    "    desencriptado = []\n",
    "    for i in range(len(encriptado)):\n",
    "        desencriptado.append(nueva_clave[encriptado[i]])\n",
    "    desencriptado = \"\".join(desencriptado)\n",
    "    return desencriptado\n",
    "\n",
    "desencriptador(encriptado, clave)"
   ]
  },
  {
   "cell_type": "code",
   "execution_count": null,
   "metadata": {},
   "outputs": [],
   "source": []
  }
 ],
 "metadata": {
  "kernelspec": {
   "display_name": "Python 3",
   "language": "python",
   "name": "python3"
  },
  "language_info": {
   "codemirror_mode": {
    "name": "ipython",
    "version": 3
   },
   "file_extension": ".py",
   "mimetype": "text/x-python",
   "name": "python",
   "nbconvert_exporter": "python",
   "pygments_lexer": "ipython3",
   "version": "3.8.5"
  }
 },
 "nbformat": 4,
 "nbformat_minor": 4
}
