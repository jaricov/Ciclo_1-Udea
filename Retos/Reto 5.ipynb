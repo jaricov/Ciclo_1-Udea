{
 "cells": [
  {
   "cell_type": "code",
   "execution_count": 26,
   "metadata": {},
   "outputs": [],
   "source": [
    "import csv, json\n",
    "\n",
    "def comportamiento(x):\n",
    "    if x>0:\n",
    "        return 'SUBE'\n",
    "    elif x<0:\n",
    "        return 'BAJA'\n",
    "    else:\n",
    "        return 'ESTABLE'\n",
    "\n",
    "def solucion():\n",
    "    import pandas as pd\n",
    "    file = pd.read_csv('JandJ.csv')\n",
    "    file = file.rename(columns={'Date':'Fecha analizada'})\n",
    "    file['Open-Close'] = file['Open']-file['Close']\n",
    "    file['Comportamiento de la accion'] = file['Open-Close'].apply(comportamiento)\n",
    "    file['abs Diferencia Close-Open'] = file['Open-Close'].abs()\n",
    "    doc = file.drop(['Open','High','Low','Close','Adj Close','Volume','Open-Close'], axis=1)\n",
    "    doc.to_csv('analisis_archivo.csv',index=False,sep='\\t')\n",
    "    \n",
    "    dicc = {}\n",
    "    dicc['date_lowest_volume'] = file['Fecha analizada'][file.Volume.idxmin()]\n",
    "    dicc['lowest_volume'] = float(file.Volume.min())\n",
    "    dicc['date_highest_volume'] = file['Fecha analizada'][file.Volume.idxmax()]\n",
    "    dicc['highest_volume'] = float(file.Volume.max())\n",
    "    dicc['mean_volume'] = float(file.Volume.mean())\n",
    "    dicc['date_greatest_difference'] = file['Fecha analizada'][file['abs Diferencia Close-Open'].idxmax()]\n",
    "    dicc['greatest_difference'] = float(file['abs Diferencia Close-Open'].max())\n",
    "    \n",
    "    with open('detalles.json', 'w') as archivo:\n",
    "        json.dump(dicc,archivo,indent=1)\n",
    "    \n",
    "\n",
    "solucion()"
   ]
  },
  {
   "cell_type": "code",
   "execution_count": null,
   "metadata": {},
   "outputs": [],
   "source": []
  }
 ],
 "metadata": {
  "kernelspec": {
   "display_name": "Python 3",
   "language": "python",
   "name": "python3"
  },
  "language_info": {
   "codemirror_mode": {
    "name": "ipython",
    "version": 3
   },
   "file_extension": ".py",
   "mimetype": "text/x-python",
   "name": "python",
   "nbconvert_exporter": "python",
   "pygments_lexer": "ipython3",
   "version": "3.8.5"
  }
 },
 "nbformat": 4,
 "nbformat_minor": 4
}
