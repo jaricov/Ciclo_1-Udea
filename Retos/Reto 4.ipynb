{
 "cells": [
  {
   "cell_type": "code",
   "execution_count": 331,
   "metadata": {},
   "outputs": [
    {
     "name": "stdout",
     "output_type": "stream",
     "text": [
      "['3', '2', '8', 'K', '10', 'A', '9', 'J', '6', '4', '5', 'Q', '7', '3', 'Q', 'A', '6', '4', '9', '8', '10', '7', '2', 'J', 'K', '5', '7', '6', 'K', 'A', '3', '5', '4', '2', '9', 'Q', '10', '8', 'J', '10', '3', '8', '4', 'Q', '6', 'K', '2', '9', '7', 'A', '5', 'J']\n"
     ]
    }
   ],
   "source": [
    "import random\n",
    "\n",
    "cartas = ['A', '2', '3', '4', '5', '6', '7', '8', '9', '10', 'J', 'Q', 'K']\n",
    "baraja = [random.sample(cartas,k=13) for i in range(4)]\n",
    "baraja = [baraja[i][j] for i in range(len(baraja)) for j in range(len(baraja[i]))]\n",
    "print(baraja)"
   ]
  },
  {
   "cell_type": "code",
   "execution_count": 15,
   "metadata": {
    "scrolled": true
   },
   "outputs": [
    {
     "name": "stdout",
     "output_type": "stream",
     "text": [
      "['9', '6', '5', '7', 'J', '10', '10', 'K', '8', 'K', '9', 'A', '2', 'K', 'K', '4', '10', 'Q', '10', 'Q', '4', '3', '4', '2', 'A', '7', '2', 'J', '3', '6', '5', '5', 'A', '8', '2', 'A', 'J', '8', '8', '6', '3', '3', '9', '5', '6', '7', 'Q', '9', 'Q', '4', 'J', '7']\n",
      "['9', '5', 'J', '10', '8', '9', '2', 'K', '10', '10', '4', '4', 'A', '2', '3', '5', 'A', '2', 'J', '8', '3', '9', '6', 'Q', 'Q', 'J']\n",
      "['A', '2'] 1\n",
      "['A', '7'] 1\n",
      "['J', '10', '10'] 2\n",
      "['Q', '4', '3', '4'] 3\n",
      "['6', '7', '10', 'K', 'K', 'A', 'K', '4', 'Q', 'Q', '3', '2', '7', 'J', '6', '5', '8', 'A', '8', '6', '3', '5', '7', '9', '4', '7']\n",
      "['A', '2'] 1\n",
      "['A', '7'] 1\n",
      "['J', '10', '10'] 2\n",
      "['Q', '4', '3', '4'] 3\n"
     ]
    },
    {
     "data": {
      "text/plain": [
       "(7, 7)"
      ]
     },
     "execution_count": 15,
     "metadata": {},
     "output_type": "execute_result"
    }
   ],
   "source": [
    "baraja = ['9', '6', '5', '7', 'J', '10', '10', 'K', '8', 'K', '9', 'A', '2', 'K', 'K', '4', '10', 'Q', '10', 'Q', '4', '3', '4', '2', 'A', '7', '2', 'J', '3', '6', '5', '5', 'A', '8', '2', 'A', 'J', '8', '8', '6', '3', '3', '9', '5', '6','7', 'Q', '9', 'Q', '4', 'J', '7']\n",
    "\n",
    "def tiene_cartas_altas(cartas_siguientes):\n",
    "    if \"A\" in cartas_siguientes or 'J' in cartas_siguientes or 'Q' in cartas_siguientes or 'K' in cartas_siguientes:\n",
    "        return True\n",
    "    else:\n",
    "        return False\n",
    "\n",
    "def juego(baraja):\n",
    "    print(baraja)\n",
    "    player_1 = []\n",
    "    player_2 = []\n",
    "    for i in range(len(baraja)):\n",
    "        if i%2 == 0:\n",
    "            player_1.append(baraja[i])\n",
    "        else:\n",
    "            player_2.append(baraja[i])\n",
    "    \n",
    "    totals = []\n",
    "    cartas_altas = ['A','J','Q','K']\n",
    "    numbers=[2,3,4,5]\n",
    "    for i in (player_1,player_2):\n",
    "        points = 0\n",
    "        print(i)\n",
    "        for k in range(len(numbers)):\n",
    "            for j in range(len(i)):\n",
    "                cartas_siguientes = baraja[j:j+numbers[k]]\n",
    "                if tiene_cartas_altas(cartas_siguientes) is True:\n",
    "                    if (cartas_siguientes[0]==cartas_altas[k]) and (len(cartas_siguientes)==numbers[k]):\n",
    "                        if ('A' in cartas_siguientes[1:]) or ('Q' in cartas_siguientes[1:]) or ('J' in cartas_siguientes[1:]) or ('K' in cartas_siguientes[1:]):\n",
    "                            continue\n",
    "                        else:\n",
    "                            points=points+numbers[k]-1\n",
    "                            print(cartas_siguientes, numbers[k]-1)\n",
    "        totals.append(points)\n",
    "    totals = tuple (totals)\n",
    "    return totals\n",
    "\n",
    "juego(baraja)"
   ]
  },
  {
   "cell_type": "code",
   "execution_count": 68,
   "metadata": {},
   "outputs": [
    {
     "data": {
      "text/plain": [
       "(6, 6)"
      ]
     },
     "execution_count": 68,
     "metadata": {},
     "output_type": "execute_result"
    }
   ],
   "source": [
    "\n",
    "\n",
    "def tiene_cartas_altas(cartas_siguientes):\n",
    "    if \"A\" in cartas_siguientes or 'J' in cartas_siguientes or 'Q' in cartas_siguientes or 'K' in cartas_siguientes:\n",
    "        return True\n",
    "    else:\n",
    "        return False\n",
    "\n",
    "def juego(baraja):\n",
    "    #print(baraja)\n",
    "    player_1 = []\n",
    "    player_2 = []\n",
    "    for i in range(len(baraja)):\n",
    "        if i%2 == 0:\n",
    "            player_1.append(baraja[i])\n",
    "        else:\n",
    "            player_2.append(baraja[i])\n",
    "    \n",
    "    points_player_1 = []\n",
    "    points_player_2 = []\n",
    "    cartas_altas = ['A','J','Q','K']\n",
    "    numbers=[2,3,4,5]\n",
    "    for i in (player_1,player_2):\n",
    "        #points = 0\n",
    "        #print(i)\n",
    "        for j in range(len(i)):\n",
    "            if i[j] in cartas_altas:\n",
    "                if i==player_1:\n",
    "                    for k in range(len(cartas_altas)):\n",
    "                        if baraja[2*j]==cartas_altas[k]:\n",
    "                            cartas_siguientes = baraja[2*j:2*j+numbers[k]]\n",
    "                            if (tiene_cartas_altas(cartas_siguientes[1:]) is False) and (len(cartas_siguientes)==numbers[k]):\n",
    "                                #points=points+numbers[k]-1\n",
    "                                #print(cartas_siguientes, points)\n",
    "                                points_player_1.append(numbers[k]-1)\n",
    "                else:\n",
    "                    for k in range(len(cartas_altas)):\n",
    "                        if baraja[2*j+1]==cartas_altas[k]:\n",
    "                            cartas_siguientes = baraja[2*j+1:2*j+1+numbers[k]]\n",
    "                            if (tiene_cartas_altas(cartas_siguientes[1:]) is False) and (len(cartas_siguientes)==numbers[k]):\n",
    "                                #points=points+numbers[k]-1\n",
    "                                #print(cartas_siguientes, points)\n",
    "                                points_player_2.append(numbers[k]-1)\n",
    "    total = (sum(points_player_1),sum(points_player_2))\n",
    "    return total\n",
    "\n",
    "juego(baraja)"
   ]
  },
  {
   "cell_type": "code",
   "execution_count": null,
   "metadata": {},
   "outputs": [],
   "source": []
  }
 ],
 "metadata": {
  "kernelspec": {
   "display_name": "Python 3",
   "language": "python",
   "name": "python3"
  },
  "language_info": {
   "codemirror_mode": {
    "name": "ipython",
    "version": 3
   },
   "file_extension": ".py",
   "mimetype": "text/x-python",
   "name": "python",
   "nbconvert_exporter": "python",
   "pygments_lexer": "ipython3",
   "version": "3.8.5"
  }
 },
 "nbformat": 4,
 "nbformat_minor": 4
}
