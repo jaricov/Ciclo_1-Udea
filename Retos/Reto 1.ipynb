{
 "cells": [
  {
   "cell_type": "code",
   "execution_count": 14,
   "metadata": {},
   "outputs": [
    {
     "name": "stdout",
     "output_type": "stream",
     "text": [
      "Indicar la edad del paciente:13\n",
      "Indicar el peso del paciente en kilogramos:45\n",
      "El estado nutricional del paciente es C y se requieren 1924 días de dieta para que alcance el peso máximo\n"
     ]
    }
   ],
   "source": [
    "##### Reto 1 #####\n",
    "edad =  float(input(\"Indicar la edad del paciente:\"))\n",
    "peso =  float(input(\"Indicar el peso del paciente en kilogramos:\"))\n",
    "def solucion(edad, peso):\n",
    "    Proteins = 30.5/1000\n",
    "    CHs = 60.1/1000\n",
    "    Vegetables = -24.4/1000\n",
    "    n=0\n",
    "        \n",
    "    if edad>=5 and edad<=10:\n",
    "        if peso<16:\n",
    "            x='A'\n",
    "            port_A = {'p_CHs':2,'p_proteins':1,'p_vegetables':2}\n",
    "            while peso<=22:\n",
    "                n=n+1\n",
    "                peso=peso+CHs*port_A['p_CHs']+Proteins*port_A['p_proteins']+Vegetables*port_A['p_vegetables']\n",
    "            y = 'un peso saludable'\n",
    "        elif peso>28:\n",
    "            x='B'\n",
    "            port_B = {'p_CHs':0.6,'p_proteins':1,'p_vegetables':4}\n",
    "            while peso>=24:\n",
    "                n=n+1\n",
    "                peso=peso+CHs*port_B['p_CHs']+Proteins*port_B['p_proteins']+Vegetables*port_B['p_vegetables']\n",
    "            y = 'un peso saludable'\n",
    "        else:\n",
    "            x='C'\n",
    "            port_C = {'p_CHs':0.5,'p_proteins':0.7,'p_vegetables':2}\n",
    "            while peso<=28:\n",
    "                n=n+1\n",
    "                peso=peso+CHs*port_C['p_CHs']+Proteins*port_C['p_proteins']+Vegetables*port_C['p_vegetables']\n",
    "            y = 'el peso maximo'\n",
    "    elif edad>10 and edad<=13:\n",
    "        if peso<30:\n",
    "            x='A'\n",
    "            port_A = {'p_CHs':2,'p_proteins':1,'p_vegetables':2}\n",
    "            while peso<=32:\n",
    "                n=n+1\n",
    "                peso = peso + CHs*port_A['p_CHs']+Proteins*port_A['p_proteins']+Vegetables*port_A['p_vegetables']\n",
    "            y = 'un peso saludable'\n",
    "        elif peso>50:\n",
    "            x='B'\n",
    "            port_B = {'p_CHs':0.6,'p_proteins':1,'p_vegetables':4}\n",
    "            while peso>43:\n",
    "                n=n+1\n",
    "                peso = peso + CHs*port_B['p_CHs']+Proteins*port_B['p_proteins']+Vegetables*port_B['p_vegetables']\n",
    "            y = 'un peso saludable'\n",
    "        else:\n",
    "            x='C'\n",
    "            port_C = {'p_CHs':0.5,'p_proteins':0.7,'p_vegetables':2}\n",
    "            while peso<=50:\n",
    "                n=n+1\n",
    "                peso = peso + CHs*port_C['p_CHs']+Proteins*port_C['p_proteins']+Vegetables*port_C['p_vegetables']\n",
    "            y = 'el peso maximo'\n",
    "    elif edad>13 and edad<=17:\n",
    "        if peso<51:\n",
    "            x='A'\n",
    "            port_A = {'p_CHs':2,'p_proteins':1,'p_vegetables':2}\n",
    "            while peso<=56:\n",
    "                n=n+1\n",
    "                peso = peso + CHs*port_A['p_CHs']+Proteins*port_A['p_proteins']+Vegetables*port_A['p_vegetables']\n",
    "            y = 'un peso saludable'\n",
    "        elif peso>63:\n",
    "            x='B'\n",
    "            port_B = {'p_CHs':0.6,'p_proteins':1,'p_vegetables':4}\n",
    "            while peso>=58:\n",
    "                n=n+1\n",
    "                peso = peso + CHs*port_B['p_CHs']+Proteins*port_B['p_proteins']+Vegetables*port_B['p_vegetables']\n",
    "            y = 'un peso saludable'\n",
    "        else:\n",
    "            x='C'\n",
    "            port_C = {'p_CHs':0.5,'p_proteins':0.7,'p_vegetables':2}\n",
    "            while peso <=63:\n",
    "                n=n+1\n",
    "                peso = peso + CHs*port_C['p_CHs']+Proteins*port_C['p_proteins']+Vegetables*port_C['p_vegetables']\n",
    "            y = 'el peso maximo'\n",
    "    print(f'El estado nutricional del paciente es {x} y se requieren {n} dias de dieta para que alcance {y}')\n",
    "    return\n",
    "solucion(edad,peso)"
   ]
  },
  {
   "cell_type": "code",
   "execution_count": 33,
   "metadata": {},
   "outputs": [
    {
     "name": "stdout",
     "output_type": "stream",
     "text": [
      "Ingrese un numero: 4\n",
      "¡Ups! Estás por debajo\n",
      "Ingrese un numero: 26\n",
      "¡Ups! Estás por debajo\n",
      "Ingrese un numero: 1000\n",
      "¡Te saliste del intervalo!\n",
      "Ingrese un numero: -1\n",
      "¡Te saliste del intervalo!\n",
      "Ingrese un numero: 3\n",
      "¡Ups! Estás por debajo\n",
      "Ingrese un numero: 50\n",
      "¡LO LOGRASTE! Usaste 4 intentos\n"
     ]
    }
   ],
   "source": [
    "##### Reto 1A #####\n",
    "\n",
    "b=100\n",
    "n=50\n",
    "def solucion(b,n):\n",
    "    x = float(input('Ingrese un numero: '))\n",
    "    count = 1\n",
    "    while x!=n:\n",
    "        if 0<=x and x<=b:\n",
    "            if x>n:\n",
    "                print(\"¡Ups! Te pasaste\")\n",
    "            elif x<n:\n",
    "                print(\"¡Ups! Estás por debajo\")\n",
    "            x=float(input('Ingrese un numero: '))\n",
    "            count=count+1\n",
    "        else:\n",
    "            print(\"¡Te saliste del intervalo!\" )\n",
    "            x=float(input('Ingrese un numero: '))\n",
    "    print(f'¡LO LOGRASTE! Usaste {count} intentos')\n",
    "    return\n",
    "solucion(b,n)"
   ]
  },
  {
   "cell_type": "code",
   "execution_count": 8,
   "metadata": {},
   "outputs": [
    {
     "name": "stdout",
     "output_type": "stream",
     "text": [
      "Ingrese el valor unitario del producto:400\n",
      "¿El producto cuenta con IVA?:N\n",
      "Ingrese la cantidad que lleva el cliente del producto a registrar:5\n",
      "PRODUCTO SIN IVA\n",
      "SUBTOTAL: 2000.0\n",
      "¿Faltan productos por cobrar? S/N:N\n",
      "TOTAL A COBRAR: 2000.0\n"
     ]
    }
   ],
   "source": [
    "##### Reto 1B #####\n",
    "\n",
    "def solucion():\n",
    "    w = 'S'\n",
    "    precio = 0\n",
    "    while w == 'S':\n",
    "        x = float(input('Ingrese el valor unitario del producto:'))\n",
    "        y = input('¿El producto cuenta con IVA?:')\n",
    "        z = float(input('Ingrese la cantidad que lleva el cliente del producto a registrar:'))\n",
    "    \n",
    "        if y == 'S':\n",
    "            print('IVA incluído')\n",
    "            precio = precio + x*z + x*z*0.19\n",
    "            print(f'SUBTOTAL: {precio}')\n",
    "        elif y == 'N':\n",
    "            print('PRODUCTO SIN IVA')\n",
    "            precio = precio + x*z\n",
    "            print(f'SUBTOTAL: {precio}')\n",
    "        w = input('¿Faltan productos por cobrar? S/N:')\n",
    "    print(f'TOTAL A COBRAR: {precio}')\n",
    "    return \n",
    "\n",
    "solucion()"
   ]
  },
  {
   "cell_type": "code",
   "execution_count": 2,
   "metadata": {},
   "outputs": [
    {
     "name": "stdout",
     "output_type": "stream",
     "text": [
      "¡Bienvenido! En esta aplicación los estudiantes podrán gestionar las notas de su materia.\n",
      "Por favor ingrese su nombre: JOHN\n",
      "Ingrese el nombre de la materia: lecto7\n",
      "Ingrese la nota obtenida: 0.7\n",
      "Ingrese el porcentaje de la nota: 25\n",
      "¿Falta añadir notas? S/NN\n",
      "El estudiante John cursó la materia Lecto7 y obtuvo 0.17 resultando en reprobado\n"
     ]
    }
   ],
   "source": [
    "##### Reto 1C #####\n",
    "\n",
    "def solucion():\n",
    "    print('¡Bienvenido! En esta aplicación los estudiantes podrán gestionar las notas de su materia.')\n",
    "    name = input('Por favor ingrese su nombre: ').capitalize()\n",
    "    subject = input('Ingrese el nombre de la materia: ').capitalize()\n",
    "    x = 'S'\n",
    "    per = 0\n",
    "    nota = 0\n",
    "    while x == 'S':\n",
    "        grade = float(input('Ingrese la nota obtenida: '))\n",
    "        percentage = float(input('Ingrese el porcentaje de la nota: '))\n",
    "        per = per + percentage\n",
    "        if per > 100:\n",
    "            per = per - percentage\n",
    "            print('El porcentaje evaluado de una materia no puede ser mayor a 100')\n",
    "        elif per < 100:\n",
    "            nota = nota + grade*percentage/100\n",
    "            x = input('¿Falta añadir notas? S/N') \n",
    "        else:\n",
    "            nota = nota + grade*percentage/100\n",
    "            break\n",
    "    if nota>=3:\n",
    "        print(f'El estudiante {name} cursó la materia {subject} y obtuvo {nota} resultando en aprobado')\n",
    "    else:\n",
    "        print(f'El estudiante {name} cursó la materia {subject} y obtuvo {nota:.2f} resultando en reprobado')\n",
    "    return\n",
    "\n",
    "solucion()"
   ]
  },
  {
   "cell_type": "code",
   "execution_count": null,
   "metadata": {},
   "outputs": [],
   "source": []
  }
 ],
 "metadata": {
  "kernelspec": {
   "display_name": "Python 3",
   "language": "python",
   "name": "python3"
  },
  "language_info": {
   "codemirror_mode": {
    "name": "ipython",
    "version": 3
   },
   "file_extension": ".py",
   "mimetype": "text/x-python",
   "name": "python",
   "nbconvert_exporter": "python",
   "pygments_lexer": "ipython3",
   "version": "3.8.5"
  }
 },
 "nbformat": 4,
 "nbformat_minor": 4
}
